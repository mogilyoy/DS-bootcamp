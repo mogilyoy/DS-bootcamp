{
 "cells": [
  {
   "cell_type": "markdown",
   "id": "6ec0107b-6092-43a5-ad0c-7dbae945cdb6",
   "metadata": {},
   "source": [
    "# Алгоритмы и структуры данных"
   ]
  },
  {
   "cell_type": "markdown",
   "id": "179dd534-9805-4bb6-9c53-3fc281417fda",
   "metadata": {},
   "source": [
    "### Бинарный поиск (Binary Search)"
   ]
  },
  {
   "cell_type": "code",
   "execution_count": 1,
   "id": "526aa277-e84b-4a1c-99e1-1da3035419cb",
   "metadata": {},
   "outputs": [],
   "source": [
    "def binary_search_recursive(array, element, start, end):\n",
    "    # Проверяем, что введены коректные значения start и end\n",
    "    if start > end:\n",
    "        return -1\n",
    "\n",
    "    # находим середину массива\n",
    "    mid = (start + end) // 2\n",
    "    # проверяем равен ли искомый элемент значению элемента в середине массива. \n",
    "    # Если да, то возвращаем индес \"серединного элемента\"\n",
    "    if element == array[mid]:\n",
    "        return mid\n",
    "    # Если искомый элемент меньше \"серединного\", то продолжаем итерации с \"левой\" частью.\n",
    "    if element < array[mid]:\n",
    "        return binary_search_recursive(array, element, start, mid-1)\n",
    "    # Если искомый элемент больше \"серединного\", то продолжаем итерации с \"правой\" частью.\n",
    "    else:\n",
    "        return binary_search_recursive(array, element, mid+1, end)\n"
   ]
  },
  {
   "cell_type": "code",
   "execution_count": 2,
   "id": "95e59950-7765-4970-abc8-fb07abec918c",
   "metadata": {},
   "outputs": [
    {
     "name": "stdout",
     "output_type": "stream",
     "text": [
      "Searching for 18\n",
      "Index of 18: 7\n",
      "CPU times: total: 0 ns\n",
      "Wall time: 1.01 ms\n"
     ]
    }
   ],
   "source": [
    "%%time \n",
    "element = 18\n",
    "array = [1, 2, 5, 7, 13, 15, 16, 18, 24, 28, 29]\n",
    "\n",
    "print(\"Searching for {}\".format(element))\n",
    "print(\"Index of {}: {}\".format(element, binary_search_recursive(array, element, 0, len(array))))"
   ]
  },
  {
   "cell_type": "markdown",
   "id": "c3f3a9a4-9db7-4f99-b77c-fdd51ae1de14",
   "metadata": {},
   "source": [
    "### Сортировка \"пузырьком\""
   ]
  },
  {
   "cell_type": "code",
   "execution_count": 5,
   "id": "e1e2767b-9337-4a5d-b5b1-31d5b8c90604",
   "metadata": {},
   "outputs": [],
   "source": [
    "def bSort(array):\n",
    "    # определяем длину массива\n",
    "    length = len(array)\n",
    "    #Внешний цикл, количество проходов N-1\n",
    "    for i in range(length):\n",
    "        # Внутренний цикл, N-i-1 проходов\n",
    "        for j in range(0, length-i-1):\n",
    "            #Меняем элементы местами\n",
    "            if array[j] > array[j+1]:\n",
    "                temp = array[j]\n",
    "                array[j] = array[j+1]\n",
    "                array[j+1] = temp\n",
    "    return array"
   ]
  },
  {
   "cell_type": "code",
   "execution_count": 6,
   "id": "f3b49170-0b76-4df6-81fb-77c24ddccfce",
   "metadata": {},
   "outputs": [
    {
     "name": "stdout",
     "output_type": "stream",
     "text": [
      "CPU times: total: 0 ns\n",
      "Wall time: 0 ns\n"
     ]
    }
   ],
   "source": [
    "%%time \n",
    "array[1], array[2] = array[2], array[1]"
   ]
  },
  {
   "cell_type": "code",
   "execution_count": 7,
   "id": "4bed823e-2187-4b91-be97-a04394ff8aca",
   "metadata": {},
   "outputs": [
    {
     "name": "stdout",
     "output_type": "stream",
     "text": [
      "CPU times: total: 0 ns\n",
      "Wall time: 0 ns\n"
     ]
    },
    {
     "data": {
      "text/plain": [
       "[0, 1, 2, 5, 7, 12, 15, 18, 20, 24, 130]"
      ]
     },
     "execution_count": 7,
     "metadata": {},
     "output_type": "execute_result"
    }
   ],
   "source": [
    "%%time \n",
    "\n",
    "array1 = [1, 20, 5, 7, 130, 15, 12, 18, 24, 2, 0]\n",
    "bSort(array1)"
   ]
  },
  {
   "cell_type": "markdown",
   "id": "f7b2156e-0f79-47c6-a937-d86fc7a124c6",
   "metadata": {},
   "source": [
    "### Сортировка \"вставками\" (англ. Insertion sort) "
   ]
  },
  {
   "cell_type": "code",
   "execution_count": 12,
   "id": "780cf174-e53d-4cde-9da2-89836275c9f0",
   "metadata": {},
   "outputs": [
    {
     "name": "stdout",
     "output_type": "stream",
     "text": [
      "Enter the list of numbers:  20 12 3 1 200 120\n"
     ]
    },
    {
     "name": "stdout",
     "output_type": "stream",
     "text": [
      "Sorted list: [1, 3, 12, 20, 120, 200]\n"
     ]
    }
   ],
   "source": [
    "def insertion_sort(alist):\n",
    "    '''\n",
    "    insertion_sort: Перебираются элементы в неотсортированной части массива.\n",
    "                    Каждый элемент вставляется в отсортированную часть массива на то место, где он должен находиться.\n",
    "    input: unsorted array\n",
    "    output: sorted array\n",
    "    '''\n",
    "    for i in range(1, len(alist)):\n",
    "        temp = alist[i]\n",
    "        j = i - 1\n",
    "        while (j >= 0 and temp < alist[j]):\n",
    "            alist[j + 1] = alist[j]\n",
    "            j = j - 1\n",
    "        alist[j + 1] = temp\n",
    " \n",
    " \n",
    "alist = input('Enter the list of numbers: ').split()\n",
    "alist = [int(x) for x in alist]\n",
    "insertion_sort(alist)\n",
    "print('Sorted list: ', end='')\n",
    "print(alist)"
   ]
  },
  {
   "cell_type": "code",
   "execution_count": null,
   "id": "350a4c4a-682d-4675-b179-fbc1853540b6",
   "metadata": {},
   "outputs": [],
   "source": []
  }
 ],
 "metadata": {
  "kernelspec": {
   "display_name": "Python 3.10.4 64-bit",
   "language": "python",
   "name": "python3"
  },
  "language_info": {
   "codemirror_mode": {
    "name": "ipython",
    "version": 3
   },
   "file_extension": ".py",
   "mimetype": "text/x-python",
   "name": "python",
   "nbconvert_exporter": "python",
   "pygments_lexer": "ipython3",
   "version": "3.10.4"
  },
  "vscode": {
   "interpreter": {
    "hash": "916dbcbb3f70747c44a77c7bcd40155683ae19c65e1c03b4aa3499c5328201f1"
   }
  }
 },
 "nbformat": 4,
 "nbformat_minor": 5
}
