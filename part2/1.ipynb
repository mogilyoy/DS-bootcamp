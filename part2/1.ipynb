{
 "cells": [
  {
   "cell_type": "markdown",
   "metadata": {},
   "source": [
    "Pandas. Библиотека для работы со структурированными данными.\n",
    "\n",
    "Pandas Series - одномерный массив. \n",
    "- Индексы можно указать самостоятельно \n",
    "- Индекс может быть числом, а может и буквой\n",
    "- Дефолтная индексация 0, 1, 2..."
   ]
  },
  {
   "cell_type": "code",
   "execution_count": 44,
   "metadata": {},
   "outputs": [
    {
     "data": {
      "text/plain": [
       "a    Петя\n",
       "b    Маша\n",
       "c     Оля\n",
       "dtype: object"
      ]
     },
     "execution_count": 44,
     "metadata": {},
     "output_type": "execute_result"
    }
   ],
   "source": [
    "import pandas as pd\n",
    "\n",
    "s = pd.Series(['Петя', 'Маша', 'Оля'], index = ['a', 'b', 'c'])\n",
    "s"
   ]
  },
  {
   "cell_type": "code",
   "execution_count": 45,
   "metadata": {},
   "outputs": [
    {
     "data": {
      "text/plain": [
       "('Петя', 'Маша')"
      ]
     },
     "execution_count": 45,
     "metadata": {},
     "output_type": "execute_result"
    }
   ],
   "source": [
    "s['a'], s[1]"
   ]
  },
  {
   "cell_type": "markdown",
   "metadata": {},
   "source": [
    "DataFrame. \n",
    "Двумерный массив, похожий на таблицу.; \n",
    "- Столбец DataFrame - это Series; \n",
    "- Индексация идет по столбцам\n",
    "- для доступа к строке используется метод .iloc"
   ]
  },
  {
   "cell_type": "code",
   "execution_count": 46,
   "metadata": {},
   "outputs": [
    {
     "data": {
      "text/html": [
       "<div>\n",
       "<style scoped>\n",
       "    .dataframe tbody tr th:only-of-type {\n",
       "        vertical-align: middle;\n",
       "    }\n",
       "\n",
       "    .dataframe tbody tr th {\n",
       "        vertical-align: top;\n",
       "    }\n",
       "\n",
       "    .dataframe thead th {\n",
       "        text-align: right;\n",
       "    }\n",
       "</style>\n",
       "<table border=\"1\" class=\"dataframe\">\n",
       "  <thead>\n",
       "    <tr style=\"text-align: right;\">\n",
       "      <th></th>\n",
       "      <th>name</th>\n",
       "      <th>age</th>\n",
       "    </tr>\n",
       "  </thead>\n",
       "  <tbody>\n",
       "    <tr>\n",
       "      <th>0</th>\n",
       "      <td>Ира</td>\n",
       "      <td>23</td>\n",
       "    </tr>\n",
       "    <tr>\n",
       "      <th>1</th>\n",
       "      <td>Паша</td>\n",
       "      <td>26</td>\n",
       "    </tr>\n",
       "    <tr>\n",
       "      <th>2</th>\n",
       "      <td>Лео</td>\n",
       "      <td>23</td>\n",
       "    </tr>\n",
       "    <tr>\n",
       "      <th>3</th>\n",
       "      <td>Макс</td>\n",
       "      <td>25</td>\n",
       "    </tr>\n",
       "    <tr>\n",
       "      <th>4</th>\n",
       "      <td>Остин</td>\n",
       "      <td>21</td>\n",
       "    </tr>\n",
       "  </tbody>\n",
       "</table>\n",
       "</div>"
      ],
      "text/plain": [
       "    name  age\n",
       "0    Ира   23\n",
       "1   Паша   26\n",
       "2    Лео   23\n",
       "3   Макс   25\n",
       "4  Остин   21"
      ]
     },
     "execution_count": 46,
     "metadata": {},
     "output_type": "execute_result"
    }
   ],
   "source": [
    "data = {'name': ['Ира', 'Паша', 'Лео', 'Макс', 'Остин'], 'age': [23, 26, 23, 25, 21]}\n",
    "data = pd.DataFrame(data)\n",
    "data"
   ]
  },
  {
   "cell_type": "code",
   "execution_count": 47,
   "metadata": {},
   "outputs": [
    {
     "data": {
      "text/plain": [
       "(0      Ира\n",
       " 1     Паша\n",
       " 2      Лео\n",
       " 3     Макс\n",
       " 4    Остин\n",
       " Name: name, dtype: object,\n",
       " pandas.core.series.Series)"
      ]
     },
     "execution_count": 47,
     "metadata": {},
     "output_type": "execute_result"
    }
   ],
   "source": [
    "data.name, type(data['name'])"
   ]
  },
  {
   "cell_type": "code",
   "execution_count": 48,
   "metadata": {},
   "outputs": [
    {
     "data": {
      "text/plain": [
       "name    Паша\n",
       "age       26\n",
       "Name: 1, dtype: object"
      ]
     },
     "execution_count": 48,
     "metadata": {},
     "output_type": "execute_result"
    }
   ],
   "source": [
    "data.iloc[1]"
   ]
  },
  {
   "cell_type": "code",
   "execution_count": 49,
   "metadata": {},
   "outputs": [
    {
     "data": {
      "text/plain": [
       "26"
      ]
     },
     "execution_count": 49,
     "metadata": {},
     "output_type": "execute_result"
    }
   ],
   "source": [
    "data.iloc[1].age"
   ]
  },
  {
   "cell_type": "markdown",
   "metadata": {},
   "source": [
    "Загрузка и хранение данных"
   ]
  },
  {
   "cell_type": "code",
   "execution_count": 50,
   "metadata": {},
   "outputs": [
    {
     "data": {
      "text/html": [
       "<div>\n",
       "<style scoped>\n",
       "    .dataframe tbody tr th:only-of-type {\n",
       "        vertical-align: middle;\n",
       "    }\n",
       "\n",
       "    .dataframe tbody tr th {\n",
       "        vertical-align: top;\n",
       "    }\n",
       "\n",
       "    .dataframe thead th {\n",
       "        text-align: right;\n",
       "    }\n",
       "</style>\n",
       "<table border=\"1\" class=\"dataframe\">\n",
       "  <thead>\n",
       "    <tr style=\"text-align: right;\">\n",
       "      <th></th>\n",
       "      <th>year</th>\n",
       "      <th>rank</th>\n",
       "      <th>school</th>\n",
       "      <th>games</th>\n",
       "      <th>wins</th>\n",
       "      <th>losses</th>\n",
       "      <th>win_percentage</th>\n",
       "      <th>conference_wins</th>\n",
       "      <th>conference_losses</th>\n",
       "      <th>home_wins</th>\n",
       "      <th>...</th>\n",
       "      <th>offensive_rebounds</th>\n",
       "      <th>total_rebounds</th>\n",
       "      <th>assists</th>\n",
       "      <th>steals</th>\n",
       "      <th>blocks</th>\n",
       "      <th>turnovers</th>\n",
       "      <th>personal_fouls</th>\n",
       "      <th>points</th>\n",
       "      <th>opponent_points</th>\n",
       "      <th>simple_rating</th>\n",
       "    </tr>\n",
       "    <tr>\n",
       "      <th>id</th>\n",
       "      <th></th>\n",
       "      <th></th>\n",
       "      <th></th>\n",
       "      <th></th>\n",
       "      <th></th>\n",
       "      <th></th>\n",
       "      <th></th>\n",
       "      <th></th>\n",
       "      <th></th>\n",
       "      <th></th>\n",
       "      <th></th>\n",
       "      <th></th>\n",
       "      <th></th>\n",
       "      <th></th>\n",
       "      <th></th>\n",
       "      <th></th>\n",
       "      <th></th>\n",
       "      <th></th>\n",
       "      <th></th>\n",
       "      <th></th>\n",
       "      <th></th>\n",
       "    </tr>\n",
       "  </thead>\n",
       "  <tbody>\n",
       "    <tr>\n",
       "      <th>1</th>\n",
       "      <td>2021</td>\n",
       "      <td>1</td>\n",
       "      <td>Villanova</td>\n",
       "      <td>38</td>\n",
       "      <td>30</td>\n",
       "      <td>8</td>\n",
       "      <td>0.789</td>\n",
       "      <td>16</td>\n",
       "      <td>4</td>\n",
       "      <td>12.0</td>\n",
       "      <td>...</td>\n",
       "      <td>10.3</td>\n",
       "      <td>34.8</td>\n",
       "      <td>11.9</td>\n",
       "      <td>6.0</td>\n",
       "      <td>2.2</td>\n",
       "      <td>9.9</td>\n",
       "      <td>14.9</td>\n",
       "      <td>71.7</td>\n",
       "      <td>62.7</td>\n",
       "      <td>19.31</td>\n",
       "    </tr>\n",
       "    <tr>\n",
       "      <th>2</th>\n",
       "      <td>2021</td>\n",
       "      <td>2</td>\n",
       "      <td>Providence</td>\n",
       "      <td>33</td>\n",
       "      <td>27</td>\n",
       "      <td>6</td>\n",
       "      <td>0.818</td>\n",
       "      <td>14</td>\n",
       "      <td>3</td>\n",
       "      <td>16.0</td>\n",
       "      <td>...</td>\n",
       "      <td>10.5</td>\n",
       "      <td>37.6</td>\n",
       "      <td>13.2</td>\n",
       "      <td>5.0</td>\n",
       "      <td>3.7</td>\n",
       "      <td>11.4</td>\n",
       "      <td>16.0</td>\n",
       "      <td>71.5</td>\n",
       "      <td>66.2</td>\n",
       "      <td>13.08</td>\n",
       "    </tr>\n",
       "    <tr>\n",
       "      <th>3</th>\n",
       "      <td>2021</td>\n",
       "      <td>3</td>\n",
       "      <td>UConn</td>\n",
       "      <td>33</td>\n",
       "      <td>23</td>\n",
       "      <td>10</td>\n",
       "      <td>0.697</td>\n",
       "      <td>13</td>\n",
       "      <td>6</td>\n",
       "      <td>14.0</td>\n",
       "      <td>...</td>\n",
       "      <td>13.8</td>\n",
       "      <td>40.4</td>\n",
       "      <td>14.0</td>\n",
       "      <td>5.9</td>\n",
       "      <td>6.4</td>\n",
       "      <td>11.8</td>\n",
       "      <td>16.8</td>\n",
       "      <td>74.8</td>\n",
       "      <td>65.3</td>\n",
       "      <td>16.40</td>\n",
       "    </tr>\n",
       "    <tr>\n",
       "      <th>4</th>\n",
       "      <td>2021</td>\n",
       "      <td>4</td>\n",
       "      <td>Creighton</td>\n",
       "      <td>35</td>\n",
       "      <td>23</td>\n",
       "      <td>12</td>\n",
       "      <td>0.657</td>\n",
       "      <td>12</td>\n",
       "      <td>7</td>\n",
       "      <td>11.0</td>\n",
       "      <td>...</td>\n",
       "      <td>9.6</td>\n",
       "      <td>38.1</td>\n",
       "      <td>13.3</td>\n",
       "      <td>5.5</td>\n",
       "      <td>4.3</td>\n",
       "      <td>14.1</td>\n",
       "      <td>13.6</td>\n",
       "      <td>69.2</td>\n",
       "      <td>66.4</td>\n",
       "      <td>11.34</td>\n",
       "    </tr>\n",
       "    <tr>\n",
       "      <th>5</th>\n",
       "      <td>2021</td>\n",
       "      <td>5</td>\n",
       "      <td>Marquette</td>\n",
       "      <td>32</td>\n",
       "      <td>19</td>\n",
       "      <td>13</td>\n",
       "      <td>0.594</td>\n",
       "      <td>11</td>\n",
       "      <td>8</td>\n",
       "      <td>13.0</td>\n",
       "      <td>...</td>\n",
       "      <td>7.8</td>\n",
       "      <td>34.8</td>\n",
       "      <td>16.0</td>\n",
       "      <td>7.8</td>\n",
       "      <td>5.2</td>\n",
       "      <td>12.4</td>\n",
       "      <td>17.4</td>\n",
       "      <td>74.0</td>\n",
       "      <td>71.6</td>\n",
       "      <td>11.36</td>\n",
       "    </tr>\n",
       "    <tr>\n",
       "      <th>6</th>\n",
       "      <td>2021</td>\n",
       "      <td>6</td>\n",
       "      <td>Seton Hall</td>\n",
       "      <td>32</td>\n",
       "      <td>21</td>\n",
       "      <td>11</td>\n",
       "      <td>0.656</td>\n",
       "      <td>11</td>\n",
       "      <td>8</td>\n",
       "      <td>13.0</td>\n",
       "      <td>...</td>\n",
       "      <td>12.1</td>\n",
       "      <td>38.5</td>\n",
       "      <td>10.3</td>\n",
       "      <td>7.1</td>\n",
       "      <td>5.4</td>\n",
       "      <td>12.1</td>\n",
       "      <td>15.6</td>\n",
       "      <td>71.9</td>\n",
       "      <td>66.4</td>\n",
       "      <td>12.75</td>\n",
       "    </tr>\n",
       "    <tr>\n",
       "      <th>7</th>\n",
       "      <td>2021</td>\n",
       "      <td>7</td>\n",
       "      <td>St. John's (NY)</td>\n",
       "      <td>32</td>\n",
       "      <td>17</td>\n",
       "      <td>15</td>\n",
       "      <td>0.531</td>\n",
       "      <td>8</td>\n",
       "      <td>11</td>\n",
       "      <td>12.0</td>\n",
       "      <td>...</td>\n",
       "      <td>12.0</td>\n",
       "      <td>37.8</td>\n",
       "      <td>18.8</td>\n",
       "      <td>8.8</td>\n",
       "      <td>5.5</td>\n",
       "      <td>11.9</td>\n",
       "      <td>17.9</td>\n",
       "      <td>79.6</td>\n",
       "      <td>74.2</td>\n",
       "      <td>11.95</td>\n",
       "    </tr>\n",
       "  </tbody>\n",
       "</table>\n",
       "<p>7 rows × 36 columns</p>\n",
       "</div>"
      ],
      "text/plain": [
       "    year  rank           school  games  wins  losses  win_percentage  \\\n",
       "id                                                                     \n",
       "1   2021     1        Villanova     38    30       8           0.789   \n",
       "2   2021     2       Providence     33    27       6           0.818   \n",
       "3   2021     3            UConn     33    23      10           0.697   \n",
       "4   2021     4        Creighton     35    23      12           0.657   \n",
       "5   2021     5        Marquette     32    19      13           0.594   \n",
       "6   2021     6       Seton Hall     32    21      11           0.656   \n",
       "7   2021     7  St. John's (NY)     32    17      15           0.531   \n",
       "\n",
       "    conference_wins  conference_losses  home_wins  ...  offensive_rebounds  \\\n",
       "id                                                 ...                       \n",
       "1                16                  4       12.0  ...                10.3   \n",
       "2                14                  3       16.0  ...                10.5   \n",
       "3                13                  6       14.0  ...                13.8   \n",
       "4                12                  7       11.0  ...                 9.6   \n",
       "5                11                  8       13.0  ...                 7.8   \n",
       "6                11                  8       13.0  ...                12.1   \n",
       "7                 8                 11       12.0  ...                12.0   \n",
       "\n",
       "    total_rebounds  assists  steals  blocks  turnovers  personal_fouls  \\\n",
       "id                                                                       \n",
       "1             34.8     11.9     6.0     2.2        9.9            14.9   \n",
       "2             37.6     13.2     5.0     3.7       11.4            16.0   \n",
       "3             40.4     14.0     5.9     6.4       11.8            16.8   \n",
       "4             38.1     13.3     5.5     4.3       14.1            13.6   \n",
       "5             34.8     16.0     7.8     5.2       12.4            17.4   \n",
       "6             38.5     10.3     7.1     5.4       12.1            15.6   \n",
       "7             37.8     18.8     8.8     5.5       11.9            17.9   \n",
       "\n",
       "    points  opponent_points  simple_rating  \n",
       "id                                          \n",
       "1     71.7             62.7          19.31  \n",
       "2     71.5             66.2          13.08  \n",
       "3     74.8             65.3          16.40  \n",
       "4     69.2             66.4          11.34  \n",
       "5     74.0             71.6          11.36  \n",
       "6     71.9             66.4          12.75  \n",
       "7     79.6             74.2          11.95  \n",
       "\n",
       "[7 rows x 36 columns]"
      ]
     },
     "execution_count": 50,
     "metadata": {},
     "output_type": "execute_result"
    }
   ],
   "source": [
    "# прочитать cvg файл тоже самое для excel \n",
    "data = pd.read_csv('./csv/bigeastncaabasketball.csv', index_col=0)\n",
    "data.head(7)  # data.tail() - конец файла"
   ]
  },
  {
   "cell_type": "code",
   "execution_count": 51,
   "metadata": {},
   "outputs": [],
   "source": [
    "# чтобы записать в csv есть метод to_csv\n",
    "data.to_csv('winners.csv')"
   ]
  },
  {
   "cell_type": "markdown",
   "metadata": {},
   "source": [
    "Описание датасета"
   ]
  },
  {
   "cell_type": "code",
   "execution_count": 52,
   "metadata": {},
   "outputs": [
    {
     "name": "stdout",
     "output_type": "stream",
     "text": [
      "<class 'pandas.core.frame.DataFrame'>\n",
      "Int64Index: 496 entries, 1 to 496\n",
      "Data columns (total 36 columns):\n",
      " #   Column                           Non-Null Count  Dtype  \n",
      "---  ------                           --------------  -----  \n",
      " 0   year                             496 non-null    int64  \n",
      " 1   rank                             496 non-null    int64  \n",
      " 2   school                           496 non-null    object \n",
      " 3   games                            496 non-null    int64  \n",
      " 4   wins                             496 non-null    int64  \n",
      " 5   losses                           496 non-null    int64  \n",
      " 6   win_percentage                   496 non-null    float64\n",
      " 7   conference_wins                  496 non-null    int64  \n",
      " 8   conference_losses                496 non-null    int64  \n",
      " 9   home_wins                        288 non-null    float64\n",
      " 10  home_losses                      288 non-null    float64\n",
      " 11  away_wins                        288 non-null    float64\n",
      " 12  away_losses                      288 non-null    float64\n",
      " 13  offensive_rating                 218 non-null    float64\n",
      " 14  defensive_rating                 218 non-null    float64\n",
      " 15  net_rating                       218 non-null    float64\n",
      " 16  field_goals                      496 non-null    float64\n",
      " 17  field_goal_attempts              496 non-null    float64\n",
      " 18  field_goal_percentage            496 non-null    float64\n",
      " 19  3_pointers                       438 non-null    float64\n",
      " 20  3_pointer_attempts               438 non-null    float64\n",
      " 21  3_pointer_percentage             438 non-null    float64\n",
      " 22  effective_field_goal_percentage  438 non-null    float64\n",
      " 23  free_throws                      496 non-null    float64\n",
      " 24  free_throw_attempts              496 non-null    float64\n",
      " 25  free_throw_percentage            496 non-null    float64\n",
      " 26  offensive_rebounds               337 non-null    float64\n",
      " 27  total_rebounds                   496 non-null    float64\n",
      " 28  assists                          489 non-null    float64\n",
      " 29  steals                           480 non-null    float64\n",
      " 30  blocks                           477 non-null    float64\n",
      " 31  turnovers                        476 non-null    float64\n",
      " 32  personal_fouls                   477 non-null    float64\n",
      " 33  points                           496 non-null    float64\n",
      " 34  opponent_points                  496 non-null    float64\n",
      " 35  simple_rating                    496 non-null    float64\n",
      "dtypes: float64(28), int64(7), object(1)\n",
      "memory usage: 143.4+ KB\n"
     ]
    }
   ],
   "source": [
    "data.info()"
   ]
  },
  {
   "cell_type": "code",
   "execution_count": 53,
   "metadata": {},
   "outputs": [
    {
     "data": {
      "text/html": [
       "<div>\n",
       "<style scoped>\n",
       "    .dataframe tbody tr th:only-of-type {\n",
       "        vertical-align: middle;\n",
       "    }\n",
       "\n",
       "    .dataframe tbody tr th {\n",
       "        vertical-align: top;\n",
       "    }\n",
       "\n",
       "    .dataframe thead th {\n",
       "        text-align: right;\n",
       "    }\n",
       "</style>\n",
       "<table border=\"1\" class=\"dataframe\">\n",
       "  <thead>\n",
       "    <tr style=\"text-align: right;\">\n",
       "      <th></th>\n",
       "      <th>year</th>\n",
       "      <th>rank</th>\n",
       "      <th>games</th>\n",
       "      <th>wins</th>\n",
       "      <th>losses</th>\n",
       "      <th>win_percentage</th>\n",
       "      <th>conference_wins</th>\n",
       "      <th>conference_losses</th>\n",
       "      <th>home_wins</th>\n",
       "      <th>home_losses</th>\n",
       "      <th>...</th>\n",
       "      <th>offensive_rebounds</th>\n",
       "      <th>total_rebounds</th>\n",
       "      <th>assists</th>\n",
       "      <th>steals</th>\n",
       "      <th>blocks</th>\n",
       "      <th>turnovers</th>\n",
       "      <th>personal_fouls</th>\n",
       "      <th>points</th>\n",
       "      <th>opponent_points</th>\n",
       "      <th>simple_rating</th>\n",
       "    </tr>\n",
       "  </thead>\n",
       "  <tbody>\n",
       "    <tr>\n",
       "      <th>count</th>\n",
       "      <td>496.000000</td>\n",
       "      <td>496.000000</td>\n",
       "      <td>496.000000</td>\n",
       "      <td>496.000000</td>\n",
       "      <td>496.000000</td>\n",
       "      <td>496.000000</td>\n",
       "      <td>496.000000</td>\n",
       "      <td>496.000000</td>\n",
       "      <td>288.000000</td>\n",
       "      <td>288.000000</td>\n",
       "      <td>...</td>\n",
       "      <td>337.000000</td>\n",
       "      <td>496.000000</td>\n",
       "      <td>489.000000</td>\n",
       "      <td>480.000000</td>\n",
       "      <td>477.000000</td>\n",
       "      <td>476.000000</td>\n",
       "      <td>477.000000</td>\n",
       "      <td>496.000000</td>\n",
       "      <td>496.000000</td>\n",
       "      <td>496.000000</td>\n",
       "    </tr>\n",
       "    <tr>\n",
       "      <th>mean</th>\n",
       "      <td>2001.393145</td>\n",
       "      <td>6.586694</td>\n",
       "      <td>31.935484</td>\n",
       "      <td>19.304435</td>\n",
       "      <td>12.631048</td>\n",
       "      <td>0.595641</td>\n",
       "      <td>8.465726</td>\n",
       "      <td>8.465726</td>\n",
       "      <td>12.312500</td>\n",
       "      <td>4.333333</td>\n",
       "      <td>...</td>\n",
       "      <td>12.342136</td>\n",
       "      <td>36.371976</td>\n",
       "      <td>14.629243</td>\n",
       "      <td>7.465208</td>\n",
       "      <td>4.108805</td>\n",
       "      <td>14.128992</td>\n",
       "      <td>18.678197</td>\n",
       "      <td>72.678024</td>\n",
       "      <td>68.522782</td>\n",
       "      <td>10.996734</td>\n",
       "    </tr>\n",
       "    <tr>\n",
       "      <th>std</th>\n",
       "      <td>11.481943</td>\n",
       "      <td>3.855541</td>\n",
       "      <td>3.041775</td>\n",
       "      <td>6.274372</td>\n",
       "      <td>4.399606</td>\n",
       "      <td>0.156962</td>\n",
       "      <td>3.632462</td>\n",
       "      <td>3.633574</td>\n",
       "      <td>3.210325</td>\n",
       "      <td>2.601259</td>\n",
       "      <td>...</td>\n",
       "      <td>2.033559</td>\n",
       "      <td>3.084173</td>\n",
       "      <td>1.955861</td>\n",
       "      <td>1.501849</td>\n",
       "      <td>1.308282</td>\n",
       "      <td>2.064038</td>\n",
       "      <td>2.162686</td>\n",
       "      <td>5.442235</td>\n",
       "      <td>4.685670</td>\n",
       "      <td>5.979471</td>\n",
       "    </tr>\n",
       "    <tr>\n",
       "      <th>min</th>\n",
       "      <td>1979.000000</td>\n",
       "      <td>1.000000</td>\n",
       "      <td>19.000000</td>\n",
       "      <td>5.000000</td>\n",
       "      <td>2.000000</td>\n",
       "      <td>0.194000</td>\n",
       "      <td>0.000000</td>\n",
       "      <td>1.000000</td>\n",
       "      <td>2.000000</td>\n",
       "      <td>0.000000</td>\n",
       "      <td>...</td>\n",
       "      <td>7.500000</td>\n",
       "      <td>27.700000</td>\n",
       "      <td>8.800000</td>\n",
       "      <td>4.000000</td>\n",
       "      <td>1.400000</td>\n",
       "      <td>8.700000</td>\n",
       "      <td>12.700000</td>\n",
       "      <td>58.800000</td>\n",
       "      <td>53.500000</td>\n",
       "      <td>-6.940000</td>\n",
       "    </tr>\n",
       "    <tr>\n",
       "      <th>25%</th>\n",
       "      <td>1992.750000</td>\n",
       "      <td>3.000000</td>\n",
       "      <td>30.000000</td>\n",
       "      <td>15.000000</td>\n",
       "      <td>9.750000</td>\n",
       "      <td>0.483750</td>\n",
       "      <td>6.000000</td>\n",
       "      <td>6.000000</td>\n",
       "      <td>10.000000</td>\n",
       "      <td>2.000000</td>\n",
       "      <td>...</td>\n",
       "      <td>11.000000</td>\n",
       "      <td>34.475000</td>\n",
       "      <td>13.200000</td>\n",
       "      <td>6.300000</td>\n",
       "      <td>3.200000</td>\n",
       "      <td>12.600000</td>\n",
       "      <td>17.200000</td>\n",
       "      <td>69.000000</td>\n",
       "      <td>65.400000</td>\n",
       "      <td>7.025000</td>\n",
       "    </tr>\n",
       "    <tr>\n",
       "      <th>50%</th>\n",
       "      <td>2002.000000</td>\n",
       "      <td>6.000000</td>\n",
       "      <td>32.000000</td>\n",
       "      <td>19.000000</td>\n",
       "      <td>13.000000</td>\n",
       "      <td>0.606000</td>\n",
       "      <td>9.000000</td>\n",
       "      <td>8.000000</td>\n",
       "      <td>13.000000</td>\n",
       "      <td>4.000000</td>\n",
       "      <td>...</td>\n",
       "      <td>12.400000</td>\n",
       "      <td>36.400000</td>\n",
       "      <td>14.600000</td>\n",
       "      <td>7.350000</td>\n",
       "      <td>3.900000</td>\n",
       "      <td>14.100000</td>\n",
       "      <td>18.700000</td>\n",
       "      <td>72.300000</td>\n",
       "      <td>68.300000</td>\n",
       "      <td>11.220000</td>\n",
       "    </tr>\n",
       "    <tr>\n",
       "      <th>75%</th>\n",
       "      <td>2010.000000</td>\n",
       "      <td>9.000000</td>\n",
       "      <td>34.000000</td>\n",
       "      <td>24.000000</td>\n",
       "      <td>16.000000</td>\n",
       "      <td>0.710000</td>\n",
       "      <td>11.000000</td>\n",
       "      <td>11.000000</td>\n",
       "      <td>15.000000</td>\n",
       "      <td>6.000000</td>\n",
       "      <td>...</td>\n",
       "      <td>13.700000</td>\n",
       "      <td>38.300000</td>\n",
       "      <td>15.900000</td>\n",
       "      <td>8.400000</td>\n",
       "      <td>4.800000</td>\n",
       "      <td>15.400000</td>\n",
       "      <td>20.000000</td>\n",
       "      <td>76.100000</td>\n",
       "      <td>71.600000</td>\n",
       "      <td>15.450000</td>\n",
       "    </tr>\n",
       "    <tr>\n",
       "      <th>max</th>\n",
       "      <td>2021.000000</td>\n",
       "      <td>16.000000</td>\n",
       "      <td>41.000000</td>\n",
       "      <td>36.000000</td>\n",
       "      <td>25.000000</td>\n",
       "      <td>0.944000</td>\n",
       "      <td>17.000000</td>\n",
       "      <td>19.000000</td>\n",
       "      <td>19.000000</td>\n",
       "      <td>11.000000</td>\n",
       "      <td>...</td>\n",
       "      <td>18.600000</td>\n",
       "      <td>45.500000</td>\n",
       "      <td>20.800000</td>\n",
       "      <td>13.100000</td>\n",
       "      <td>9.100000</td>\n",
       "      <td>20.900000</td>\n",
       "      <td>28.400000</td>\n",
       "      <td>89.700000</td>\n",
       "      <td>83.000000</td>\n",
       "      <td>26.640000</td>\n",
       "    </tr>\n",
       "  </tbody>\n",
       "</table>\n",
       "<p>8 rows × 35 columns</p>\n",
       "</div>"
      ],
      "text/plain": [
       "              year        rank       games        wins      losses  \\\n",
       "count   496.000000  496.000000  496.000000  496.000000  496.000000   \n",
       "mean   2001.393145    6.586694   31.935484   19.304435   12.631048   \n",
       "std      11.481943    3.855541    3.041775    6.274372    4.399606   \n",
       "min    1979.000000    1.000000   19.000000    5.000000    2.000000   \n",
       "25%    1992.750000    3.000000   30.000000   15.000000    9.750000   \n",
       "50%    2002.000000    6.000000   32.000000   19.000000   13.000000   \n",
       "75%    2010.000000    9.000000   34.000000   24.000000   16.000000   \n",
       "max    2021.000000   16.000000   41.000000   36.000000   25.000000   \n",
       "\n",
       "       win_percentage  conference_wins  conference_losses   home_wins  \\\n",
       "count      496.000000       496.000000         496.000000  288.000000   \n",
       "mean         0.595641         8.465726           8.465726   12.312500   \n",
       "std          0.156962         3.632462           3.633574    3.210325   \n",
       "min          0.194000         0.000000           1.000000    2.000000   \n",
       "25%          0.483750         6.000000           6.000000   10.000000   \n",
       "50%          0.606000         9.000000           8.000000   13.000000   \n",
       "75%          0.710000        11.000000          11.000000   15.000000   \n",
       "max          0.944000        17.000000          19.000000   19.000000   \n",
       "\n",
       "       home_losses  ...  offensive_rebounds  total_rebounds     assists  \\\n",
       "count   288.000000  ...          337.000000      496.000000  489.000000   \n",
       "mean      4.333333  ...           12.342136       36.371976   14.629243   \n",
       "std       2.601259  ...            2.033559        3.084173    1.955861   \n",
       "min       0.000000  ...            7.500000       27.700000    8.800000   \n",
       "25%       2.000000  ...           11.000000       34.475000   13.200000   \n",
       "50%       4.000000  ...           12.400000       36.400000   14.600000   \n",
       "75%       6.000000  ...           13.700000       38.300000   15.900000   \n",
       "max      11.000000  ...           18.600000       45.500000   20.800000   \n",
       "\n",
       "           steals      blocks   turnovers  personal_fouls      points  \\\n",
       "count  480.000000  477.000000  476.000000      477.000000  496.000000   \n",
       "mean     7.465208    4.108805   14.128992       18.678197   72.678024   \n",
       "std      1.501849    1.308282    2.064038        2.162686    5.442235   \n",
       "min      4.000000    1.400000    8.700000       12.700000   58.800000   \n",
       "25%      6.300000    3.200000   12.600000       17.200000   69.000000   \n",
       "50%      7.350000    3.900000   14.100000       18.700000   72.300000   \n",
       "75%      8.400000    4.800000   15.400000       20.000000   76.100000   \n",
       "max     13.100000    9.100000   20.900000       28.400000   89.700000   \n",
       "\n",
       "       opponent_points  simple_rating  \n",
       "count       496.000000     496.000000  \n",
       "mean         68.522782      10.996734  \n",
       "std           4.685670       5.979471  \n",
       "min          53.500000      -6.940000  \n",
       "25%          65.400000       7.025000  \n",
       "50%          68.300000      11.220000  \n",
       "75%          71.600000      15.450000  \n",
       "max          83.000000      26.640000  \n",
       "\n",
       "[8 rows x 35 columns]"
      ]
     },
     "execution_count": 53,
     "metadata": {},
     "output_type": "execute_result"
    }
   ],
   "source": [
    "data.describe()"
   ]
  },
  {
   "cell_type": "code",
   "execution_count": 54,
   "metadata": {},
   "outputs": [
    {
     "name": "stdout",
     "output_type": "stream",
     "text": [
      "(6, 36)\n"
     ]
    }
   ],
   "source": [
    "# срез датасета \n",
    "\n",
    "df1 = data[1:7]\n",
    "df2 = data[7:10]\n",
    "df3 = data[10:15]\n",
    "print(df1.shape)  # размерность датасета"
   ]
  },
  {
   "cell_type": "code",
   "execution_count": 55,
   "metadata": {},
   "outputs": [
    {
     "data": {
      "text/html": [
       "<div>\n",
       "<style scoped>\n",
       "    .dataframe tbody tr th:only-of-type {\n",
       "        vertical-align: middle;\n",
       "    }\n",
       "\n",
       "    .dataframe tbody tr th {\n",
       "        vertical-align: top;\n",
       "    }\n",
       "\n",
       "    .dataframe thead th {\n",
       "        text-align: right;\n",
       "    }\n",
       "</style>\n",
       "<table border=\"1\" class=\"dataframe\">\n",
       "  <thead>\n",
       "    <tr style=\"text-align: right;\">\n",
       "      <th></th>\n",
       "      <th>year</th>\n",
       "      <th>rank</th>\n",
       "      <th>school</th>\n",
       "      <th>games</th>\n",
       "      <th>wins</th>\n",
       "      <th>losses</th>\n",
       "      <th>win_percentage</th>\n",
       "      <th>conference_wins</th>\n",
       "      <th>conference_losses</th>\n",
       "      <th>home_wins</th>\n",
       "      <th>...</th>\n",
       "      <th>offensive_rebounds</th>\n",
       "      <th>total_rebounds</th>\n",
       "      <th>assists</th>\n",
       "      <th>steals</th>\n",
       "      <th>blocks</th>\n",
       "      <th>turnovers</th>\n",
       "      <th>personal_fouls</th>\n",
       "      <th>points</th>\n",
       "      <th>opponent_points</th>\n",
       "      <th>simple_rating</th>\n",
       "    </tr>\n",
       "    <tr>\n",
       "      <th>id</th>\n",
       "      <th></th>\n",
       "      <th></th>\n",
       "      <th></th>\n",
       "      <th></th>\n",
       "      <th></th>\n",
       "      <th></th>\n",
       "      <th></th>\n",
       "      <th></th>\n",
       "      <th></th>\n",
       "      <th></th>\n",
       "      <th></th>\n",
       "      <th></th>\n",
       "      <th></th>\n",
       "      <th></th>\n",
       "      <th></th>\n",
       "      <th></th>\n",
       "      <th></th>\n",
       "      <th></th>\n",
       "      <th></th>\n",
       "      <th></th>\n",
       "      <th></th>\n",
       "    </tr>\n",
       "  </thead>\n",
       "  <tbody>\n",
       "    <tr>\n",
       "      <th>2</th>\n",
       "      <td>2021</td>\n",
       "      <td>2</td>\n",
       "      <td>Providence</td>\n",
       "      <td>33</td>\n",
       "      <td>27</td>\n",
       "      <td>6</td>\n",
       "      <td>0.818</td>\n",
       "      <td>14</td>\n",
       "      <td>3</td>\n",
       "      <td>16.0</td>\n",
       "      <td>...</td>\n",
       "      <td>10.5</td>\n",
       "      <td>37.6</td>\n",
       "      <td>13.2</td>\n",
       "      <td>5.0</td>\n",
       "      <td>3.7</td>\n",
       "      <td>11.4</td>\n",
       "      <td>16.0</td>\n",
       "      <td>71.5</td>\n",
       "      <td>66.2</td>\n",
       "      <td>13.08</td>\n",
       "    </tr>\n",
       "    <tr>\n",
       "      <th>3</th>\n",
       "      <td>2021</td>\n",
       "      <td>3</td>\n",
       "      <td>UConn</td>\n",
       "      <td>33</td>\n",
       "      <td>23</td>\n",
       "      <td>10</td>\n",
       "      <td>0.697</td>\n",
       "      <td>13</td>\n",
       "      <td>6</td>\n",
       "      <td>14.0</td>\n",
       "      <td>...</td>\n",
       "      <td>13.8</td>\n",
       "      <td>40.4</td>\n",
       "      <td>14.0</td>\n",
       "      <td>5.9</td>\n",
       "      <td>6.4</td>\n",
       "      <td>11.8</td>\n",
       "      <td>16.8</td>\n",
       "      <td>74.8</td>\n",
       "      <td>65.3</td>\n",
       "      <td>16.40</td>\n",
       "    </tr>\n",
       "    <tr>\n",
       "      <th>4</th>\n",
       "      <td>2021</td>\n",
       "      <td>4</td>\n",
       "      <td>Creighton</td>\n",
       "      <td>35</td>\n",
       "      <td>23</td>\n",
       "      <td>12</td>\n",
       "      <td>0.657</td>\n",
       "      <td>12</td>\n",
       "      <td>7</td>\n",
       "      <td>11.0</td>\n",
       "      <td>...</td>\n",
       "      <td>9.6</td>\n",
       "      <td>38.1</td>\n",
       "      <td>13.3</td>\n",
       "      <td>5.5</td>\n",
       "      <td>4.3</td>\n",
       "      <td>14.1</td>\n",
       "      <td>13.6</td>\n",
       "      <td>69.2</td>\n",
       "      <td>66.4</td>\n",
       "      <td>11.34</td>\n",
       "    </tr>\n",
       "    <tr>\n",
       "      <th>5</th>\n",
       "      <td>2021</td>\n",
       "      <td>5</td>\n",
       "      <td>Marquette</td>\n",
       "      <td>32</td>\n",
       "      <td>19</td>\n",
       "      <td>13</td>\n",
       "      <td>0.594</td>\n",
       "      <td>11</td>\n",
       "      <td>8</td>\n",
       "      <td>13.0</td>\n",
       "      <td>...</td>\n",
       "      <td>7.8</td>\n",
       "      <td>34.8</td>\n",
       "      <td>16.0</td>\n",
       "      <td>7.8</td>\n",
       "      <td>5.2</td>\n",
       "      <td>12.4</td>\n",
       "      <td>17.4</td>\n",
       "      <td>74.0</td>\n",
       "      <td>71.6</td>\n",
       "      <td>11.36</td>\n",
       "    </tr>\n",
       "    <tr>\n",
       "      <th>6</th>\n",
       "      <td>2021</td>\n",
       "      <td>6</td>\n",
       "      <td>Seton Hall</td>\n",
       "      <td>32</td>\n",
       "      <td>21</td>\n",
       "      <td>11</td>\n",
       "      <td>0.656</td>\n",
       "      <td>11</td>\n",
       "      <td>8</td>\n",
       "      <td>13.0</td>\n",
       "      <td>...</td>\n",
       "      <td>12.1</td>\n",
       "      <td>38.5</td>\n",
       "      <td>10.3</td>\n",
       "      <td>7.1</td>\n",
       "      <td>5.4</td>\n",
       "      <td>12.1</td>\n",
       "      <td>15.6</td>\n",
       "      <td>71.9</td>\n",
       "      <td>66.4</td>\n",
       "      <td>12.75</td>\n",
       "    </tr>\n",
       "    <tr>\n",
       "      <th>7</th>\n",
       "      <td>2021</td>\n",
       "      <td>7</td>\n",
       "      <td>St. John's (NY)</td>\n",
       "      <td>32</td>\n",
       "      <td>17</td>\n",
       "      <td>15</td>\n",
       "      <td>0.531</td>\n",
       "      <td>8</td>\n",
       "      <td>11</td>\n",
       "      <td>12.0</td>\n",
       "      <td>...</td>\n",
       "      <td>12.0</td>\n",
       "      <td>37.8</td>\n",
       "      <td>18.8</td>\n",
       "      <td>8.8</td>\n",
       "      <td>5.5</td>\n",
       "      <td>11.9</td>\n",
       "      <td>17.9</td>\n",
       "      <td>79.6</td>\n",
       "      <td>74.2</td>\n",
       "      <td>11.95</td>\n",
       "    </tr>\n",
       "  </tbody>\n",
       "</table>\n",
       "<p>6 rows × 36 columns</p>\n",
       "</div>"
      ],
      "text/plain": [
       "    year  rank           school  games  wins  losses  win_percentage  \\\n",
       "id                                                                     \n",
       "2   2021     2       Providence     33    27       6           0.818   \n",
       "3   2021     3            UConn     33    23      10           0.697   \n",
       "4   2021     4        Creighton     35    23      12           0.657   \n",
       "5   2021     5        Marquette     32    19      13           0.594   \n",
       "6   2021     6       Seton Hall     32    21      11           0.656   \n",
       "7   2021     7  St. John's (NY)     32    17      15           0.531   \n",
       "\n",
       "    conference_wins  conference_losses  home_wins  ...  offensive_rebounds  \\\n",
       "id                                                 ...                       \n",
       "2                14                  3       16.0  ...                10.5   \n",
       "3                13                  6       14.0  ...                13.8   \n",
       "4                12                  7       11.0  ...                 9.6   \n",
       "5                11                  8       13.0  ...                 7.8   \n",
       "6                11                  8       13.0  ...                12.1   \n",
       "7                 8                 11       12.0  ...                12.0   \n",
       "\n",
       "    total_rebounds  assists  steals  blocks  turnovers  personal_fouls  \\\n",
       "id                                                                       \n",
       "2             37.6     13.2     5.0     3.7       11.4            16.0   \n",
       "3             40.4     14.0     5.9     6.4       11.8            16.8   \n",
       "4             38.1     13.3     5.5     4.3       14.1            13.6   \n",
       "5             34.8     16.0     7.8     5.2       12.4            17.4   \n",
       "6             38.5     10.3     7.1     5.4       12.1            15.6   \n",
       "7             37.8     18.8     8.8     5.5       11.9            17.9   \n",
       "\n",
       "    points  opponent_points  simple_rating  \n",
       "id                                          \n",
       "2     71.5             66.2          13.08  \n",
       "3     74.8             65.3          16.40  \n",
       "4     69.2             66.4          11.34  \n",
       "5     74.0             71.6          11.36  \n",
       "6     71.9             66.4          12.75  \n",
       "7     79.6             74.2          11.95  \n",
       "\n",
       "[6 rows x 36 columns]"
      ]
     },
     "execution_count": 55,
     "metadata": {},
     "output_type": "execute_result"
    }
   ],
   "source": [
    "df1"
   ]
  },
  {
   "cell_type": "code",
   "execution_count": 56,
   "metadata": {},
   "outputs": [
    {
     "data": {
      "text/html": [
       "<div>\n",
       "<style scoped>\n",
       "    .dataframe tbody tr th:only-of-type {\n",
       "        vertical-align: middle;\n",
       "    }\n",
       "\n",
       "    .dataframe tbody tr th {\n",
       "        vertical-align: top;\n",
       "    }\n",
       "\n",
       "    .dataframe thead th {\n",
       "        text-align: right;\n",
       "    }\n",
       "</style>\n",
       "<table border=\"1\" class=\"dataframe\">\n",
       "  <thead>\n",
       "    <tr style=\"text-align: right;\">\n",
       "      <th></th>\n",
       "      <th>year</th>\n",
       "      <th>rank</th>\n",
       "      <th>school</th>\n",
       "      <th>games</th>\n",
       "      <th>wins</th>\n",
       "      <th>losses</th>\n",
       "      <th>win_percentage</th>\n",
       "      <th>conference_wins</th>\n",
       "      <th>conference_losses</th>\n",
       "      <th>home_wins</th>\n",
       "      <th>...</th>\n",
       "      <th>offensive_rebounds</th>\n",
       "      <th>total_rebounds</th>\n",
       "      <th>assists</th>\n",
       "      <th>steals</th>\n",
       "      <th>blocks</th>\n",
       "      <th>turnovers</th>\n",
       "      <th>personal_fouls</th>\n",
       "      <th>points</th>\n",
       "      <th>opponent_points</th>\n",
       "      <th>simple_rating</th>\n",
       "    </tr>\n",
       "  </thead>\n",
       "  <tbody>\n",
       "    <tr>\n",
       "      <th>0</th>\n",
       "      <td>2021</td>\n",
       "      <td>8</td>\n",
       "      <td>Xavier</td>\n",
       "      <td>36</td>\n",
       "      <td>23</td>\n",
       "      <td>13</td>\n",
       "      <td>0.639</td>\n",
       "      <td>8</td>\n",
       "      <td>11</td>\n",
       "      <td>16.0</td>\n",
       "      <td>...</td>\n",
       "      <td>10.3</td>\n",
       "      <td>37.1</td>\n",
       "      <td>14.8</td>\n",
       "      <td>7.5</td>\n",
       "      <td>4.3</td>\n",
       "      <td>11.7</td>\n",
       "      <td>15.4</td>\n",
       "      <td>74.1</td>\n",
       "      <td>69.2</td>\n",
       "      <td>13.23</td>\n",
       "    </tr>\n",
       "    <tr>\n",
       "      <th>1</th>\n",
       "      <td>2021</td>\n",
       "      <td>9</td>\n",
       "      <td>Butler</td>\n",
       "      <td>33</td>\n",
       "      <td>14</td>\n",
       "      <td>19</td>\n",
       "      <td>0.424</td>\n",
       "      <td>6</td>\n",
       "      <td>14</td>\n",
       "      <td>9.0</td>\n",
       "      <td>...</td>\n",
       "      <td>9.0</td>\n",
       "      <td>32.8</td>\n",
       "      <td>11.0</td>\n",
       "      <td>5.2</td>\n",
       "      <td>2.4</td>\n",
       "      <td>12.0</td>\n",
       "      <td>16.7</td>\n",
       "      <td>63.8</td>\n",
       "      <td>66.9</td>\n",
       "      <td>4.45</td>\n",
       "    </tr>\n",
       "    <tr>\n",
       "      <th>2</th>\n",
       "      <td>2021</td>\n",
       "      <td>10</td>\n",
       "      <td>DePaul</td>\n",
       "      <td>31</td>\n",
       "      <td>15</td>\n",
       "      <td>16</td>\n",
       "      <td>0.484</td>\n",
       "      <td>6</td>\n",
       "      <td>14</td>\n",
       "      <td>11.0</td>\n",
       "      <td>...</td>\n",
       "      <td>11.8</td>\n",
       "      <td>38.5</td>\n",
       "      <td>11.4</td>\n",
       "      <td>6.2</td>\n",
       "      <td>5.0</td>\n",
       "      <td>12.3</td>\n",
       "      <td>15.7</td>\n",
       "      <td>73.3</td>\n",
       "      <td>72.2</td>\n",
       "      <td>7.83</td>\n",
       "    </tr>\n",
       "    <tr>\n",
       "      <th>3</th>\n",
       "      <td>2021</td>\n",
       "      <td>11</td>\n",
       "      <td>Georgetown</td>\n",
       "      <td>31</td>\n",
       "      <td>6</td>\n",
       "      <td>25</td>\n",
       "      <td>0.194</td>\n",
       "      <td>0</td>\n",
       "      <td>19</td>\n",
       "      <td>6.0</td>\n",
       "      <td>...</td>\n",
       "      <td>12.7</td>\n",
       "      <td>37.3</td>\n",
       "      <td>11.8</td>\n",
       "      <td>7.2</td>\n",
       "      <td>3.8</td>\n",
       "      <td>13.4</td>\n",
       "      <td>16.2</td>\n",
       "      <td>70.7</td>\n",
       "      <td>77.0</td>\n",
       "      <td>1.71</td>\n",
       "    </tr>\n",
       "    <tr>\n",
       "      <th>4</th>\n",
       "      <td>2020</td>\n",
       "      <td>1</td>\n",
       "      <td>Creighton</td>\n",
       "      <td>31</td>\n",
       "      <td>22</td>\n",
       "      <td>9</td>\n",
       "      <td>0.710</td>\n",
       "      <td>14</td>\n",
       "      <td>6</td>\n",
       "      <td>11.0</td>\n",
       "      <td>...</td>\n",
       "      <td>8.4</td>\n",
       "      <td>35.7</td>\n",
       "      <td>15.6</td>\n",
       "      <td>7.0</td>\n",
       "      <td>3.3</td>\n",
       "      <td>11.0</td>\n",
       "      <td>15.4</td>\n",
       "      <td>76.0</td>\n",
       "      <td>68.2</td>\n",
       "      <td>16.28</td>\n",
       "    </tr>\n",
       "    <tr>\n",
       "      <th>5</th>\n",
       "      <td>2020</td>\n",
       "      <td>2</td>\n",
       "      <td>UConn</td>\n",
       "      <td>23</td>\n",
       "      <td>15</td>\n",
       "      <td>8</td>\n",
       "      <td>0.652</td>\n",
       "      <td>11</td>\n",
       "      <td>6</td>\n",
       "      <td>7.0</td>\n",
       "      <td>...</td>\n",
       "      <td>13.5</td>\n",
       "      <td>38.2</td>\n",
       "      <td>12.9</td>\n",
       "      <td>6.2</td>\n",
       "      <td>5.3</td>\n",
       "      <td>11.7</td>\n",
       "      <td>18.8</td>\n",
       "      <td>71.7</td>\n",
       "      <td>64.6</td>\n",
       "      <td>15.77</td>\n",
       "    </tr>\n",
       "    <tr>\n",
       "      <th>6</th>\n",
       "      <td>2020</td>\n",
       "      <td>3</td>\n",
       "      <td>Villanova</td>\n",
       "      <td>25</td>\n",
       "      <td>18</td>\n",
       "      <td>7</td>\n",
       "      <td>0.720</td>\n",
       "      <td>11</td>\n",
       "      <td>4</td>\n",
       "      <td>9.0</td>\n",
       "      <td>...</td>\n",
       "      <td>9.3</td>\n",
       "      <td>33.9</td>\n",
       "      <td>15.0</td>\n",
       "      <td>5.1</td>\n",
       "      <td>1.9</td>\n",
       "      <td>9.1</td>\n",
       "      <td>15.5</td>\n",
       "      <td>74.8</td>\n",
       "      <td>66.5</td>\n",
       "      <td>17.47</td>\n",
       "    </tr>\n",
       "    <tr>\n",
       "      <th>7</th>\n",
       "      <td>2020</td>\n",
       "      <td>4</td>\n",
       "      <td>Seton Hall</td>\n",
       "      <td>27</td>\n",
       "      <td>14</td>\n",
       "      <td>13</td>\n",
       "      <td>0.519</td>\n",
       "      <td>10</td>\n",
       "      <td>9</td>\n",
       "      <td>7.0</td>\n",
       "      <td>...</td>\n",
       "      <td>10.2</td>\n",
       "      <td>34.9</td>\n",
       "      <td>12.9</td>\n",
       "      <td>6.3</td>\n",
       "      <td>4.4</td>\n",
       "      <td>13.0</td>\n",
       "      <td>16.4</td>\n",
       "      <td>71.3</td>\n",
       "      <td>69.7</td>\n",
       "      <td>11.12</td>\n",
       "    </tr>\n",
       "    <tr>\n",
       "      <th>8</th>\n",
       "      <td>2021</td>\n",
       "      <td>2</td>\n",
       "      <td>Providence</td>\n",
       "      <td>33</td>\n",
       "      <td>27</td>\n",
       "      <td>6</td>\n",
       "      <td>0.818</td>\n",
       "      <td>14</td>\n",
       "      <td>3</td>\n",
       "      <td>16.0</td>\n",
       "      <td>...</td>\n",
       "      <td>10.5</td>\n",
       "      <td>37.6</td>\n",
       "      <td>13.2</td>\n",
       "      <td>5.0</td>\n",
       "      <td>3.7</td>\n",
       "      <td>11.4</td>\n",
       "      <td>16.0</td>\n",
       "      <td>71.5</td>\n",
       "      <td>66.2</td>\n",
       "      <td>13.08</td>\n",
       "    </tr>\n",
       "    <tr>\n",
       "      <th>9</th>\n",
       "      <td>2021</td>\n",
       "      <td>3</td>\n",
       "      <td>UConn</td>\n",
       "      <td>33</td>\n",
       "      <td>23</td>\n",
       "      <td>10</td>\n",
       "      <td>0.697</td>\n",
       "      <td>13</td>\n",
       "      <td>6</td>\n",
       "      <td>14.0</td>\n",
       "      <td>...</td>\n",
       "      <td>13.8</td>\n",
       "      <td>40.4</td>\n",
       "      <td>14.0</td>\n",
       "      <td>5.9</td>\n",
       "      <td>6.4</td>\n",
       "      <td>11.8</td>\n",
       "      <td>16.8</td>\n",
       "      <td>74.8</td>\n",
       "      <td>65.3</td>\n",
       "      <td>16.40</td>\n",
       "    </tr>\n",
       "    <tr>\n",
       "      <th>10</th>\n",
       "      <td>2021</td>\n",
       "      <td>4</td>\n",
       "      <td>Creighton</td>\n",
       "      <td>35</td>\n",
       "      <td>23</td>\n",
       "      <td>12</td>\n",
       "      <td>0.657</td>\n",
       "      <td>12</td>\n",
       "      <td>7</td>\n",
       "      <td>11.0</td>\n",
       "      <td>...</td>\n",
       "      <td>9.6</td>\n",
       "      <td>38.1</td>\n",
       "      <td>13.3</td>\n",
       "      <td>5.5</td>\n",
       "      <td>4.3</td>\n",
       "      <td>14.1</td>\n",
       "      <td>13.6</td>\n",
       "      <td>69.2</td>\n",
       "      <td>66.4</td>\n",
       "      <td>11.34</td>\n",
       "    </tr>\n",
       "    <tr>\n",
       "      <th>11</th>\n",
       "      <td>2021</td>\n",
       "      <td>5</td>\n",
       "      <td>Marquette</td>\n",
       "      <td>32</td>\n",
       "      <td>19</td>\n",
       "      <td>13</td>\n",
       "      <td>0.594</td>\n",
       "      <td>11</td>\n",
       "      <td>8</td>\n",
       "      <td>13.0</td>\n",
       "      <td>...</td>\n",
       "      <td>7.8</td>\n",
       "      <td>34.8</td>\n",
       "      <td>16.0</td>\n",
       "      <td>7.8</td>\n",
       "      <td>5.2</td>\n",
       "      <td>12.4</td>\n",
       "      <td>17.4</td>\n",
       "      <td>74.0</td>\n",
       "      <td>71.6</td>\n",
       "      <td>11.36</td>\n",
       "    </tr>\n",
       "    <tr>\n",
       "      <th>12</th>\n",
       "      <td>2021</td>\n",
       "      <td>6</td>\n",
       "      <td>Seton Hall</td>\n",
       "      <td>32</td>\n",
       "      <td>21</td>\n",
       "      <td>11</td>\n",
       "      <td>0.656</td>\n",
       "      <td>11</td>\n",
       "      <td>8</td>\n",
       "      <td>13.0</td>\n",
       "      <td>...</td>\n",
       "      <td>12.1</td>\n",
       "      <td>38.5</td>\n",
       "      <td>10.3</td>\n",
       "      <td>7.1</td>\n",
       "      <td>5.4</td>\n",
       "      <td>12.1</td>\n",
       "      <td>15.6</td>\n",
       "      <td>71.9</td>\n",
       "      <td>66.4</td>\n",
       "      <td>12.75</td>\n",
       "    </tr>\n",
       "    <tr>\n",
       "      <th>13</th>\n",
       "      <td>2021</td>\n",
       "      <td>7</td>\n",
       "      <td>St. John's (NY)</td>\n",
       "      <td>32</td>\n",
       "      <td>17</td>\n",
       "      <td>15</td>\n",
       "      <td>0.531</td>\n",
       "      <td>8</td>\n",
       "      <td>11</td>\n",
       "      <td>12.0</td>\n",
       "      <td>...</td>\n",
       "      <td>12.0</td>\n",
       "      <td>37.8</td>\n",
       "      <td>18.8</td>\n",
       "      <td>8.8</td>\n",
       "      <td>5.5</td>\n",
       "      <td>11.9</td>\n",
       "      <td>17.9</td>\n",
       "      <td>79.6</td>\n",
       "      <td>74.2</td>\n",
       "      <td>11.95</td>\n",
       "    </tr>\n",
       "  </tbody>\n",
       "</table>\n",
       "<p>14 rows × 36 columns</p>\n",
       "</div>"
      ],
      "text/plain": [
       "    year  rank           school  games  wins  losses  win_percentage  \\\n",
       "0   2021     8           Xavier     36    23      13           0.639   \n",
       "1   2021     9           Butler     33    14      19           0.424   \n",
       "2   2021    10           DePaul     31    15      16           0.484   \n",
       "3   2021    11       Georgetown     31     6      25           0.194   \n",
       "4   2020     1        Creighton     31    22       9           0.710   \n",
       "5   2020     2            UConn     23    15       8           0.652   \n",
       "6   2020     3        Villanova     25    18       7           0.720   \n",
       "7   2020     4       Seton Hall     27    14      13           0.519   \n",
       "8   2021     2       Providence     33    27       6           0.818   \n",
       "9   2021     3            UConn     33    23      10           0.697   \n",
       "10  2021     4        Creighton     35    23      12           0.657   \n",
       "11  2021     5        Marquette     32    19      13           0.594   \n",
       "12  2021     6       Seton Hall     32    21      11           0.656   \n",
       "13  2021     7  St. John's (NY)     32    17      15           0.531   \n",
       "\n",
       "    conference_wins  conference_losses  home_wins  ...  offensive_rebounds  \\\n",
       "0                 8                 11       16.0  ...                10.3   \n",
       "1                 6                 14        9.0  ...                 9.0   \n",
       "2                 6                 14       11.0  ...                11.8   \n",
       "3                 0                 19        6.0  ...                12.7   \n",
       "4                14                  6       11.0  ...                 8.4   \n",
       "5                11                  6        7.0  ...                13.5   \n",
       "6                11                  4        9.0  ...                 9.3   \n",
       "7                10                  9        7.0  ...                10.2   \n",
       "8                14                  3       16.0  ...                10.5   \n",
       "9                13                  6       14.0  ...                13.8   \n",
       "10               12                  7       11.0  ...                 9.6   \n",
       "11               11                  8       13.0  ...                 7.8   \n",
       "12               11                  8       13.0  ...                12.1   \n",
       "13                8                 11       12.0  ...                12.0   \n",
       "\n",
       "    total_rebounds  assists  steals  blocks  turnovers  personal_fouls  \\\n",
       "0             37.1     14.8     7.5     4.3       11.7            15.4   \n",
       "1             32.8     11.0     5.2     2.4       12.0            16.7   \n",
       "2             38.5     11.4     6.2     5.0       12.3            15.7   \n",
       "3             37.3     11.8     7.2     3.8       13.4            16.2   \n",
       "4             35.7     15.6     7.0     3.3       11.0            15.4   \n",
       "5             38.2     12.9     6.2     5.3       11.7            18.8   \n",
       "6             33.9     15.0     5.1     1.9        9.1            15.5   \n",
       "7             34.9     12.9     6.3     4.4       13.0            16.4   \n",
       "8             37.6     13.2     5.0     3.7       11.4            16.0   \n",
       "9             40.4     14.0     5.9     6.4       11.8            16.8   \n",
       "10            38.1     13.3     5.5     4.3       14.1            13.6   \n",
       "11            34.8     16.0     7.8     5.2       12.4            17.4   \n",
       "12            38.5     10.3     7.1     5.4       12.1            15.6   \n",
       "13            37.8     18.8     8.8     5.5       11.9            17.9   \n",
       "\n",
       "    points  opponent_points  simple_rating  \n",
       "0     74.1             69.2          13.23  \n",
       "1     63.8             66.9           4.45  \n",
       "2     73.3             72.2           7.83  \n",
       "3     70.7             77.0           1.71  \n",
       "4     76.0             68.2          16.28  \n",
       "5     71.7             64.6          15.77  \n",
       "6     74.8             66.5          17.47  \n",
       "7     71.3             69.7          11.12  \n",
       "8     71.5             66.2          13.08  \n",
       "9     74.8             65.3          16.40  \n",
       "10    69.2             66.4          11.34  \n",
       "11    74.0             71.6          11.36  \n",
       "12    71.9             66.4          12.75  \n",
       "13    79.6             74.2          11.95  \n",
       "\n",
       "[14 rows x 36 columns]"
      ]
     },
     "execution_count": 56,
     "metadata": {},
     "output_type": "execute_result"
    }
   ],
   "source": [
    "# склеивание датасетов\n",
    "pd.concat([df2, df3, df1], ignore_index=True)"
   ]
  },
  {
   "cell_type": "markdown",
   "metadata": {},
   "source": [
    "Numpy - работа с матрицами и линейной алгеброй"
   ]
  },
  {
   "cell_type": "code",
   "execution_count": 57,
   "metadata": {},
   "outputs": [
    {
     "name": "stdout",
     "output_type": "stream",
     "text": [
      "[1 2 3 4 5 6 7 8 9]\n",
      "[[1 2 3]\n",
      " [5 6 7]]\n"
     ]
    }
   ],
   "source": [
    "import numpy as np\n",
    "\n",
    "# одномерный массив\n",
    "arr1 = np.array([1, 2, 3, 4, 5, 6, 7, 8, 9])\n",
    "\n",
    "# многомерный\n",
    "arr2 = np.array([[1, 2, 3], [5, 6, 7]])\n",
    "print(arr1) \n",
    "print(arr2)"
   ]
  },
  {
   "cell_type": "code",
   "execution_count": 58,
   "metadata": {},
   "outputs": [
    {
     "data": {
      "text/plain": [
       "array([1, 2, 3, 5, 6, 7])"
      ]
     },
     "execution_count": 58,
     "metadata": {},
     "output_type": "execute_result"
    }
   ],
   "source": [
    "# растянуть массив в одномерный\n",
    "arr2.ravel()"
   ]
  },
  {
   "cell_type": "code",
   "execution_count": 59,
   "metadata": {},
   "outputs": [
    {
     "data": {
      "text/plain": [
       "((9,), (2, 3))"
      ]
     },
     "execution_count": 59,
     "metadata": {},
     "output_type": "execute_result"
    }
   ],
   "source": [
    "# размерность массива\n",
    "arr1.shape, arr2.shape"
   ]
  },
  {
   "cell_type": "code",
   "execution_count": 60,
   "metadata": {},
   "outputs": [
    {
     "data": {
      "text/plain": [
       "array([[1, 2, 3],\n",
       "       [4, 5, 6],\n",
       "       [7, 8, 9]])"
      ]
     },
     "execution_count": 60,
     "metadata": {},
     "output_type": "execute_result"
    }
   ],
   "source": [
    "# изменение размерности массива\n",
    "\n",
    "arr3 = arr1.reshape(3, 3)\n",
    "arr3"
   ]
  },
  {
   "cell_type": "code",
   "execution_count": 61,
   "metadata": {},
   "outputs": [
    {
     "data": {
      "text/plain": [
       "array([[1, 2],\n",
       "       [3, 5],\n",
       "       [6, 7]])"
      ]
     },
     "execution_count": 61,
     "metadata": {},
     "output_type": "execute_result"
    }
   ],
   "source": [
    "arr4 = arr2.reshape(3, 2)\n",
    "arr4"
   ]
  },
  {
   "cell_type": "markdown",
   "metadata": {},
   "source": [
    "СОздание массивов определенного типа"
   ]
  },
  {
   "cell_type": "code",
   "execution_count": 62,
   "metadata": {},
   "outputs": [
    {
     "data": {
      "text/plain": [
       "array([[0., 0., 0., 0.],\n",
       "       [0., 0., 0., 0.],\n",
       "       [0., 0., 0., 0.]])"
      ]
     },
     "execution_count": 62,
     "metadata": {},
     "output_type": "execute_result"
    }
   ],
   "source": [
    "np.zeros((3, 4))"
   ]
  },
  {
   "cell_type": "code",
   "execution_count": 63,
   "metadata": {},
   "outputs": [
    {
     "data": {
      "text/plain": [
       "array([[1., 1., 1., 1.],\n",
       "       [1., 1., 1., 1.]])"
      ]
     },
     "execution_count": 63,
     "metadata": {},
     "output_type": "execute_result"
    }
   ],
   "source": [
    "np.ones((2, 4))"
   ]
  },
  {
   "cell_type": "code",
   "execution_count": 64,
   "metadata": {},
   "outputs": [
    {
     "data": {
      "text/plain": [
       "array([[1., 0., 0., 0.],\n",
       "       [0., 1., 0., 0.],\n",
       "       [0., 0., 1., 0.],\n",
       "       [0., 0., 0., 1.]])"
      ]
     },
     "execution_count": 64,
     "metadata": {},
     "output_type": "execute_result"
    }
   ],
   "source": [
    "np.eye(4)"
   ]
  },
  {
   "cell_type": "code",
   "execution_count": 65,
   "metadata": {},
   "outputs": [
    {
     "data": {
      "text/plain": [
       "(array([[1, 1, 1],\n",
       "        [1, 1, 1],\n",
       "        [1, 1, 1]]),\n",
       " array([[0, 0, 0],\n",
       "        [0, 0, 0],\n",
       "        [0, 0, 0]]))"
      ]
     },
     "execution_count": 65,
     "metadata": {},
     "output_type": "execute_result"
    }
   ],
   "source": [
    "a = np.array([[1, 2, 3], [4, 5, 6], [7, 8, 9]])\n",
    "np.ones_like(a), np.zeros_like(a)"
   ]
  },
  {
   "cell_type": "markdown",
   "metadata": {},
   "source": [
    "Работа с измерениями"
   ]
  },
  {
   "cell_type": "code",
   "execution_count": 66,
   "metadata": {},
   "outputs": [],
   "source": [
    "a = np.array([[1, 2, 3], [4, 5, 6], [7, 8, 9]])"
   ]
  },
  {
   "cell_type": "code",
   "execution_count": 67,
   "metadata": {},
   "outputs": [
    {
     "data": {
      "text/plain": [
       "9"
      ]
     },
     "execution_count": 67,
     "metadata": {},
     "output_type": "execute_result"
    }
   ],
   "source": [
    "a.max()"
   ]
  },
  {
   "cell_type": "code",
   "execution_count": 68,
   "metadata": {},
   "outputs": [
    {
     "data": {
      "text/plain": [
       "array([1, 2, 3])"
      ]
     },
     "execution_count": 68,
     "metadata": {},
     "output_type": "execute_result"
    }
   ],
   "source": [
    "a.min(axis=0)  # минимальные значнения по столбцам"
   ]
  },
  {
   "cell_type": "code",
   "execution_count": 69,
   "metadata": {},
   "outputs": [
    {
     "data": {
      "text/plain": [
       "array([1, 4, 7])"
      ]
     },
     "execution_count": 69,
     "metadata": {},
     "output_type": "execute_result"
    }
   ],
   "source": [
    "a.min(axis=1)  # минимальные значния по строкам"
   ]
  },
  {
   "cell_type": "code",
   "execution_count": 70,
   "metadata": {},
   "outputs": [
    {
     "data": {
      "text/plain": [
       "array([4., 5., 6.])"
      ]
     },
     "execution_count": 70,
     "metadata": {},
     "output_type": "execute_result"
    }
   ],
   "source": [
    "a.mean(axis=0)  # среднее по столбцам"
   ]
  },
  {
   "cell_type": "code",
   "execution_count": 71,
   "metadata": {},
   "outputs": [
    {
     "data": {
      "text/plain": [
       "array([2., 5., 8.])"
      ]
     },
     "execution_count": 71,
     "metadata": {},
     "output_type": "execute_result"
    }
   ],
   "source": [
    "a.mean(axis=1)  # среднее по строкам"
   ]
  },
  {
   "cell_type": "code",
   "execution_count": 72,
   "metadata": {},
   "outputs": [
    {
     "data": {
      "text/plain": [
       "array([0.81649658, 0.81649658, 0.81649658])"
      ]
     },
     "execution_count": 72,
     "metadata": {},
     "output_type": "execute_result"
    }
   ],
   "source": [
    "np.std(a, axis=1)  # стандартное отклонение по строкам"
   ]
  },
  {
   "cell_type": "markdown",
   "metadata": {},
   "source": [
    "SciPy - математические операции\n",
    "основные модули: \n",
    "- constants\n",
    "- integrate\n",
    "- linalg"
   ]
  },
  {
   "cell_type": "code",
   "execution_count": 73,
   "metadata": {},
   "outputs": [
    {
     "name": "stdout",
     "output_type": "stream",
     "text": [
      "3.141592653589793 6.62607015e-34 9.80665 6.02214076e+23 9.1093837015e-31\n"
     ]
    }
   ],
   "source": [
    "# физические и математические константы \n",
    "from scipy import constants as cst\n",
    "\n",
    "print(cst.pi, cst.Planck, cst.g, cst.Avogadro, cst.electron_mass)"
   ]
  },
  {
   "cell_type": "code",
   "execution_count": 74,
   "metadata": {},
   "outputs": [
    {
     "data": {
      "text/plain": [
       "(21.333333333333336, 2.368475785867001e-13)"
      ]
     },
     "execution_count": 74,
     "metadata": {},
     "output_type": "execute_result"
    }
   ],
   "source": [
    "# интегрирование \n",
    "from scipy import integrate as itg\n",
    "f1 = lambda x: x**2\n",
    "itg.quad(f1, 0, 4)  # определенный интеграл от 0 до 4 от x^2"
   ]
  },
  {
   "cell_type": "code",
   "execution_count": 75,
   "metadata": {},
   "outputs": [
    {
     "data": {
      "text/plain": [
       "(1.0000000000000002, 5.842606742906004e-11)"
      ]
     },
     "execution_count": 75,
     "metadata": {},
     "output_type": "execute_result"
    }
   ],
   "source": [
    "# несобственные интегралы \n",
    "f2 = lambda x: np.exp(-x)\n",
    "itg.quad(f2, 0, np.inf)"
   ]
  },
  {
   "cell_type": "code",
   "execution_count": 76,
   "metadata": {},
   "outputs": [
    {
     "data": {
      "text/plain": [
       "array([[ 1,  2,  3],\n",
       "       [ 4,  5,  6],\n",
       "       [ 7,  8, 10]])"
      ]
     },
     "execution_count": 76,
     "metadata": {},
     "output_type": "execute_result"
    }
   ],
   "source": [
    "from scipy import linalg as lag\n",
    "\n",
    "arr = np.array([[1, 2, 3], [4, 5, 6], [7, 8, 10]])\n",
    "arr"
   ]
  },
  {
   "cell_type": "code",
   "execution_count": 77,
   "metadata": {},
   "outputs": [
    {
     "data": {
      "text/plain": [
       "-3.0"
      ]
     },
     "execution_count": 77,
     "metadata": {},
     "output_type": "execute_result"
    }
   ],
   "source": [
    "# определитель матрицы \n",
    "lag.det(arr)"
   ]
  },
  {
   "cell_type": "code",
   "execution_count": 78,
   "metadata": {},
   "outputs": [
    {
     "data": {
      "text/plain": [
       "(array([16.70749332+0.j, -0.90574018+0.j,  0.19824686+0.j]),\n",
       " array([[-0.22351336, -0.86584578,  0.27829649],\n",
       "        [-0.50394563,  0.0856512 , -0.8318468 ],\n",
       "        [-0.83431444,  0.4929249 ,  0.48018951]]))"
      ]
     },
     "execution_count": 78,
     "metadata": {},
     "output_type": "execute_result"
    }
   ],
   "source": [
    "# собственные значения и собственные векторы матрицы\n",
    "lag.eig(arr)"
   ]
  },
  {
   "cell_type": "code",
   "execution_count": 79,
   "metadata": {},
   "outputs": [
    {
     "data": {
      "text/plain": [
       "array([[-0.66666667, -1.33333333,  1.        ],\n",
       "       [-0.66666667,  3.66666667, -2.        ],\n",
       "       [ 1.        , -2.        ,  1.        ]])"
      ]
     },
     "execution_count": 79,
     "metadata": {},
     "output_type": "execute_result"
    }
   ],
   "source": [
    "lag.inv(arr)  # обратная матрица"
   ]
  },
  {
   "cell_type": "code",
   "execution_count": 80,
   "metadata": {},
   "outputs": [
    {
     "data": {
      "text/plain": [
       "array([-0.33333333,  0.66666667, -0.        ])"
      ]
     },
     "execution_count": 80,
     "metadata": {},
     "output_type": "execute_result"
    }
   ],
   "source": [
    "# решение СЛАУ Ax=b\n",
    "\n",
    "b = np.array([1, 2, 3])\n",
    "lag.solve(arr, b)"
   ]
  },
  {
   "cell_type": "markdown",
   "metadata": {},
   "source": [
    "Mtplotlib. Визуализация "
   ]
  },
  {
   "cell_type": "code",
   "execution_count": 83,
   "metadata": {},
   "outputs": [
    {
     "data": {
      "image/png": "[encoded data removed]",
      "text/plain": [
       "<Figure size 640x480 with 1 Axes>"
      ]
     },
     "metadata": {},
     "output_type": "display_data"
    }
   ],
   "source": [
    "# Объект Figure \n",
    "\n",
    "from matplotlib import pyplot as plt\n",
    "\n",
    "\n",
    "fig = plt.figure() # создание объекта Figure (прямоугольничек)\n",
    "plt.scatter(1.0, 1.0)  # метод для маркера в точке 1, 1\n",
    "plt.show()"
   ]
  },
  {
   "cell_type": "code",
   "execution_count": 84,
   "metadata": {},
   "outputs": [
    {
     "data": {
      "image/png": "[encoded data removed]",
      "text/plain": [
       "<Figure size 640x480 with 1 Axes>"
      ]
     },
     "metadata": {},
     "output_type": "display_data"
    }
   ],
   "source": [
    "#  график линии \n",
    "plt.plot((0, 1, 2, 3, 4, 5, 6, 7), (-1, 3, 5, -3, 5, 6, -9, 2))  # (x1, x2, x3, x4, x5), (y1, y2, y3, y4, y5)\n",
    "plt.grid()\n",
    "plt.show()"
   ]
  },
  {
   "cell_type": "code",
   "execution_count": 85,
   "metadata": {},
   "outputs": [
    {
     "data": {
      "image/png": "[encoded data removed]",
      "text/plain": [
       "<Figure size 640x480 with 1 Axes>"
      ]
     },
     "metadata": {},
     "output_type": "display_data"
    }
   ],
   "source": [
    "# график замкнутой линии\n",
    "plt.plot((0, 0, 1, 1, 0), (0, 1, 1, 0, 0))\n",
    "plt.plot((0.1, 0.5, 0.9, 0.1), (0.1, 0.9, 0.1, 0.1))\n",
    "plt.show()"
   ]
  },
  {
   "cell_type": "code",
   "execution_count": 86,
   "metadata": {},
   "outputs": [
    {
     "data": {
      "image/png": "[encoded data removed]",
      "text/plain": [
       "<Figure size 640x480 with 1 Axes>"
      ]
     },
     "metadata": {},
     "output_type": "display_data"
    }
   ],
   "source": [
    "# график множества точек\n",
    "plt.scatter([0, 1, 2, 3, 4, 5], [1, 3, 4, 6, 7, 8])\n",
    "plt.show()"
   ]
  },
  {
   "cell_type": "code",
   "execution_count": 89,
   "metadata": {},
   "outputs": [
    {
     "data": {
      "text/plain": [
       "<BarContainer object of 3 artists>"
      ]
     },
     "execution_count": 89,
     "metadata": {},
     "output_type": "execute_result"
    },
    {
     "data": {
      "image/png": "[encoded data removed]",
      "text/plain": [
       "<Figure size 640x480 with 1 Axes>"
      ]
     },
     "metadata": {},
     "output_type": "display_data"
    }
   ],
   "source": [
    "# гистограмма\n",
    "plt.bar([6, 7, 8], [10, 20, 13], color = \"red\")"
   ]
  },
  {
   "cell_type": "markdown",
   "metadata": {},
   "source": [
    "plt.plot - график по точкам\n",
    "plt.grid - сетка \n",
    "plt.title - название графика\n",
    "plt.ylabel/plt.xlabel - название осей"
   ]
  },
  {
   "cell_type": "code",
   "execution_count": 102,
   "metadata": {},
   "outputs": [
    {
     "data": {
      "text/plain": [
       "Text(0, 0.5, 'игрик')"
      ]
     },
     "execution_count": 102,
     "metadata": {},
     "output_type": "execute_result"
    },
    {
     "data": {
      "image/png": "[encoded data removed]",
      "text/plain": [
       "<Figure size 640x480 with 1 Axes>"
      ]
     },
     "metadata": {},
     "output_type": "display_data"
    }
   ],
   "source": [
    "lag = 0.1\n",
    "x = np.arange(-8*np.pi, 8*np.pi, lag)\n",
    "y = np.cos(x)\n",
    "\n",
    "fig = plt.figure()\n",
    "plt.plot(x, y)\n",
    "plt.grid()\n",
    "\n",
    "plt.title('График косинуса на промежутке [-8п, 8п]')\n",
    "plt.xlabel('икс')\n",
    "plt.ylabel('игрик')"
   ]
  },
  {
   "cell_type": "code",
   "execution_count": 103,
   "metadata": {},
   "outputs": [
    {
     "data": {
      "image/png": "[encoded data removed]",
      "text/plain": [
       "<Figure size 640x480 with 1 Axes>"
      ]
     },
     "metadata": {},
     "output_type": "display_data"
    }
   ],
   "source": [
    "# несколько графиков в одной области\n",
    "x = [1, 5, 10, 15, 20]\n",
    "y = [1, 7, 3, 5, 11]\n",
    "y1 = [i*1.2 for i in y]\n",
    "y2 = [i*1.2 for i in y1]\n",
    "y3 = [i*1.2 for i in y2]\n",
    "\n",
    "plt.plot(x, y, '-', x, y1, '--', x, y2, '-.', x, y3, ':')\n",
    "plt.show()"
   ]
  },
  {
   "cell_type": "code",
   "execution_count": 104,
   "metadata": {},
   "outputs": [
    {
     "data": {
      "image/png": "[encoded data removed]",
      "text/plain": [
       "<Figure size 1200x700 with 4 Axes>"
      ]
     },
     "metadata": {},
     "output_type": "display_data"
    }
   ],
   "source": [
    "# разместить на нескольких \n",
    "\n",
    "plt.figure(figsize=(12, 7))\n",
    "\n",
    "plt.subplot(2, 2, 1)\n",
    "plt.plot(x, y, '-')\n",
    "\n",
    "plt.subplot(2, 2, 2)\n",
    "plt.plot(x, y1, '--')\n",
    "\n",
    "plt.subplot(2, 2, 3)\n",
    "plt.plot(x, y2, '-.')\n",
    "\n",
    "plt.subplot(2, 2, 4)\n",
    "plt.plot(x, y3, ':')\n",
    "\n",
    "plt.show()\n"
   ]
  },
  {
   "cell_type": "markdown",
   "metadata": {},
   "source": [
    "Scikit-learn - машинное обучение\n",
    "Что можно найти в SciKit-learn?\n",
    "\n",
    "sklearn.preprocessing.StandartScaler - нормализация данных (приведение дисперсии к единице, мат. ожидания к нулю)\n",
    "- предобработка даных\n",
    "- выбор модели"
   ]
  },
  {
   "cell_type": "code",
   "execution_count": 105,
   "metadata": {},
   "outputs": [
    {
     "data": {
      "text/plain": [
       "array([[ 0.1,  1. , 22.8],\n",
       "       [ 0.5,  5. , 41.2],\n",
       "       [ 1.2, 12. ,  2.8],\n",
       "       [ 0.8,  8. , 14. ]])"
      ]
     },
     "execution_count": 105,
     "metadata": {},
     "output_type": "execute_result"
    }
   ],
   "source": [
    "x = np.array([[0.1, 1.0, 22.8], [0.5, 5.0, 41.2], [1.2, 12.0, 2.8], [0.8, 8.0, 14.0]])\n",
    "x"
   ]
  },
  {
   "cell_type": "code",
   "execution_count": 106,
   "metadata": {},
   "outputs": [
    {
     "data": {
      "text/plain": [
       "array([ 0.40311289,  4.03112887, 14.04421589])"
      ]
     },
     "execution_count": 106,
     "metadata": {},
     "output_type": "execute_result"
    }
   ],
   "source": [
    "from sklearn.preprocessing import StandardScaler\n",
    "scaler = StandardScaler()\n",
    "scaled_x = scaler.fit_transform(x)\n",
    "scaler.scale_"
   ]
  },
  {
   "cell_type": "code",
   "execution_count": 107,
   "metadata": {},
   "outputs": [
    {
     "data": {
      "text/plain": [
       "array([ 0.65,  6.5 , 20.2 ])"
      ]
     },
     "execution_count": 107,
     "metadata": {},
     "output_type": "execute_result"
    }
   ],
   "source": [
    "scaler.mean_"
   ]
  },
  {
   "cell_type": "code",
   "execution_count": 108,
   "metadata": {},
   "outputs": [
    {
     "data": {
      "text/plain": [
       "array([1.6250e-01, 1.6250e+01, 1.9724e+02])"
      ]
     },
     "execution_count": 108,
     "metadata": {},
     "output_type": "execute_result"
    }
   ],
   "source": [
    "scaler.var_"
   ]
  },
  {
   "cell_type": "code",
   "execution_count": 109,
   "metadata": {},
   "outputs": [
    {
     "data": {
      "text/plain": [
       "0.0"
      ]
     },
     "execution_count": 109,
     "metadata": {},
     "output_type": "execute_result"
    }
   ],
   "source": [
    "scaled_x.mean().round(decimals=5)"
   ]
  },
  {
   "cell_type": "code",
   "execution_count": 110,
   "metadata": {},
   "outputs": [
    {
     "data": {
      "text/plain": [
       "array([1., 1., 1.])"
      ]
     },
     "execution_count": 110,
     "metadata": {},
     "output_type": "execute_result"
    }
   ],
   "source": [
    "scaled_x.std(axis=0)"
   ]
  },
  {
   "cell_type": "markdown",
   "metadata": {},
   "source": [
    "<img src=\"/home/mogilyoy/Документы/python/DataScience-bootcamp/part2/images/img1.png\", width=320, heigth=240>"
   ]
  }
 ],
 "metadata": {
  "kernelspec": {
   "display_name": "Python 3.10.4 64-bit",
   "language": "python",
   "name": "python3"
  },
  "language_info": {
   "codemirror_mode": {
    "name": "ipython",
    "version": 3
   },
   "file_extension": ".py",
   "mimetype": "text/x-python",
   "name": "python",
   "nbconvert_exporter": "python",
   "pygments_lexer": "ipython3",
   "version": "3.10.4"
  },
  "orig_nbformat": 4,
  "vscode": {
   "interpreter": {
    "hash": "916dbcbb3f70747c44a77c7bcd40155683ae19c65e1c03b4aa3499c5328201f1"
   }
  }
 },
 "nbformat": 4,
 "nbformat_minor": 2
}
